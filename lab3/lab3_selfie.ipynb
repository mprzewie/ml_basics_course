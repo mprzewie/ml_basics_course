{
 "cells": [
  {
   "cell_type": "markdown",
   "metadata": {},
   "source": [
    "# Lab 3.1 - Główne składowe selfie\n",
    "\n",
    "**Wykonanie rozwiązań: Marcin Przewięźlikowski**\n",
    "\n",
    "https://github.com/mprzewie/ml_basics_course"
   ]
  },
  {
   "cell_type": "code",
   "execution_count": null,
   "metadata": {},
   "outputs": [],
   "source": [
    "import numpy as np\n",
    "import matplotlib.pyplot as plt\n",
    "from sklearn.decomposition import PCA\n",
    "from scipy.io import loadmat\n",
    "import matplotlib\n",
    "import os"
   ]
  },
  {
   "cell_type": "markdown",
   "metadata": {},
   "source": [
    "## Dataset"
   ]
  },
  {
   "cell_type": "markdown",
   "metadata": {},
   "source": [
    "Robimy sobie i bliskim/współlokatorkom/współlokatorom/innym znajomym 15+ (ale im więcej tym lepiej) różnych selfie (z możliwie tym samym tłem i oświetleniem, niekoniecznie z tym samym wyrazem twarzy) (jeżeli mieszkamy sami - robimy je tylko sobie, ale wykorzystujemy talent aktorski i na 15+ jesteśmy radośni, a na 15+ przygnębieni, etc.). Generalnie im większy i bogatszy zbiór, tym ciekawsze będą wyniki. Warto też zadbać, by twarze na zdjęciach były jak najlepiej wyśrodkowane (nie muszą być wyśrodkowane idealnie), patrzyły do przodu i miały możliwie jednorodne tło (oczywiście to nigdy nie uda się idealnie - proszę zwrócić uwagę jak drobne niedoskonałości wpłyną na wyniki). Przy tworzeniu zbioru można też współpracować z innymi studentami z tego kursu. ;]"
   ]
  },
  {
   "cell_type": "markdown",
   "metadata": {},
   "source": [
    "W celu oszczędności na danych osobowych i czasie, korzystam z istniejącego datasetu twarzy:"
   ]
  },
  {
   "cell_type": "code",
   "execution_count": null,
   "metadata": {},
   "outputs": [],
   "source": [
    "faces_ds_name = \"olivettifaces.mat\""
   ]
  },
  {
   "cell_type": "code",
   "execution_count": null,
   "metadata": {},
   "outputs": [],
   "source": [
    "if not os.path.exists(faces_ds_name):\n",
    "    !wget https://cs.nyu.edu/~roweis/data/olivettifaces.mat\n",
    "\n",
    "faces_ds = loadmat(\"olivettifaces.mat\")[\"faces\"]\n",
    "faces = np.array([\n",
    "    faces_ds[:, i].reshape(64, 64).T\n",
    "    for i in range(faces_ds.shape[1])\n",
    "])"
   ]
  },
  {
   "cell_type": "code",
   "execution_count": null,
   "metadata": {},
   "outputs": [],
   "source": [
    "fig = plt.figure(figsize=(10,10))\n",
    "for i in range(16):\n",
    "    plt.subplot(4,4, 1 + i)\n",
    "    plt.imshow(faces[10*i], cmap=\"gray\")\n",
    "fig.suptitle(\"Przykładowe twarze z datasetu\")\n",
    "plt.show()"
   ]
  },
  {
   "cell_type": "markdown",
   "metadata": {},
   "source": [
    "Konwertujemy je do czerni i bieli oraz zmniejszamy ich rozdzielczość (jak silnie? tak, aby obliczenia nie trwały zbyt długo). Traktujemy je jako zbiór n*(15+) elementów należących do n klas. Dokonujemy zamiany zdjęć na wektory i przeprowadzamy na takim zbiorze PCA (zwykłe, nie kernel). "
   ]
  },
  {
   "cell_type": "code",
   "execution_count": null,
   "metadata": {},
   "outputs": [],
   "source": [
    "identity_pca = PCA()\n",
    "faces_flat = faces.reshape(faces.shape[0], -1)\n",
    "identity_pca.fit(faces_flat)"
   ]
  },
  {
   "cell_type": "markdown",
   "metadata": {},
   "source": [
    "Jak wygląda \"średnia twarz\"?"
   ]
  },
  {
   "cell_type": "code",
   "execution_count": null,
   "metadata": {},
   "outputs": [],
   "source": [
    "plt.imshow(faces.mean(axis=0), cmap=\"gray\")\n",
    "plt.title(\"Średnia twarz\")\n",
    "plt.show()"
   ]
  },
  {
   "cell_type": "markdown",
   "metadata": {},
   "source": [
    "### Komentarz\n",
    "Średnia twarz w istocie wygląda jak rozmazana twarz."
   ]
  },
  {
   "cell_type": "markdown",
   "metadata": {},
   "source": [
    "Jak wyglądają kolejne \"principal components\" (są bardzo długimi wektorami, ale możemy je przekonwertować ponownie na zdjęcia i tak zaprezentować)? "
   ]
  },
  {
   "cell_type": "code",
   "execution_count": null,
   "metadata": {},
   "outputs": [],
   "source": [
    "fig = plt.figure(figsize=(10,10))\n",
    "fig.suptitle(\"Wizualizacja principal components zbioru\")\n",
    "for i, component in enumerate(identity_pca.components_[:16]):\n",
    "    plt.subplot(4, 4, 1 + i)\n",
    "    plt.imshow(component.reshape(64, 64), cmap=\"gray\")\n",
    "plt.show()"
   ]
  },
  {
   "cell_type": "markdown",
   "metadata": {},
   "source": [
    "Zauważmy też, że tylko niewielka część nowych wektorów bazowych ma istotny udział w tłumaczeniu pierwotnej wariancji zbioru (explained variance ratio). "
   ]
  },
  {
   "cell_type": "code",
   "execution_count": null,
   "metadata": {},
   "outputs": [],
   "source": [
    "plt.xlim(-15, 0)\n",
    "plt.title(\"Histogram variance ratio wektorów bazowych\")\n",
    "plt.hist(\n",
    "    np.log(identity_pca.explained_variance_ratio_), \n",
    "    bins=identity_pca.explained_variance_ratio_.shape[0]\n",
    ")\n",
    "plt.xlabel(\"Rząd wielkości variance ratio\")\n",
    "plt.ylabel(\"Liczba wektorów bazowych o danym variance ratio\")\n",
    "plt.show()"
   ]
  },
  {
   "cell_type": "markdown",
   "metadata": {},
   "source": [
    "### Komentarz\n",
    "Powyżej widzimy histogram logarytmów (a więc rzędów wielkości) udziałów wektorów bazowych w datasecie. Największe udziały osiągają rząd wielkości $10^{-1}$, natomiast większość ma rzędy wielkości ok. $10^{-8}$\n"
   ]
  },
  {
   "cell_type": "markdown",
   "metadata": {},
   "source": [
    "Jak wyglądają zrekonstruowane twarze, jeżeli obetniemy przestrzeń do 5, 15 i 50 najważniejszych? "
   ]
  },
  {
   "cell_type": "code",
   "execution_count": null,
   "metadata": {},
   "outputs": [],
   "source": [
    "pcas = [identity_pca] + [PCA(n_components=n).fit(faces_flat) for n in [2, 5,10,15, 20]]\n",
    "inverse_flat = [\n",
    "    pca.inverse_transform(pca.transform(faces_flat)) \n",
    "    for pca in pcas\n",
    "]"
   ]
  },
  {
   "cell_type": "code",
   "execution_count": null,
   "metadata": {},
   "outputs": [],
   "source": [
    "for i in[2, 100, 16, 32]:\n",
    "    fig = plt.figure(figsize=(10,20))\n",
    "    for j, pca in enumerate(pcas):\n",
    "        plt.subplot(1, len(pcas), j+1)\n",
    "        plt.title(f\"n={pca.n_components_}\")\n",
    "        face = inverse_flat[j][i].reshape(64, 64)\n",
    "        plt.imshow(face, cmap=\"gray\") \n",
    "        \n",
    "plt.show()"
   ]
  },
  {
   "cell_type": "markdown",
   "metadata": {},
   "source": [
    "Na koniec, ograniczmy przestrzeń do 2 najważniejszych wymiarów i zrzutujmy elementy zbioru na płaszczyznę 2D (kolorując punkty w zależności od klasy do której przynależą). Czy są łatwo separowalne?"
   ]
  },
  {
   "cell_type": "code",
   "execution_count": null,
   "metadata": {},
   "outputs": [],
   "source": [
    "two_pca = PCA(n_components=2).fit(faces_flat)\n",
    "inv_flat = two_pca.transform(faces_flat) \n",
    "classes = [(i//10) for i in range(inv_flat.shape[0])]\n",
    "# korzystam z tego, że n-ta osoba jest na zdjęciach o numerach (10*n, 10*n + 9)"
   ]
  },
  {
   "cell_type": "code",
   "execution_count": null,
   "metadata": {},
   "outputs": [],
   "source": [
    "colors_list = list(matplotlib.colors.get_named_colors_mapping().keys())\n",
    "np.random.seed(0)\n",
    "np.random.shuffle(colors_list)"
   ]
  },
  {
   "cell_type": "code",
   "execution_count": null,
   "metadata": {},
   "outputs": [],
   "source": [
    "fig = plt.figure(figsize=(10,10))\n",
    "fig.suptitle(\"Rozrzut skonwertowanych do 2 wektorów bazowych twarzy osób o danym numerze\")\n",
    "for c in np.unique(classes)[:10]:\n",
    "    plt.scatter(\n",
    "        inv_flat[10*c:10*c+9, 0], \n",
    "        inv_flat[10*c:10*c+9, 1], \n",
    "        c=colors_list[c], \n",
    "        marker=f\"${c}$\",\n",
    "        s=300\n",
    "    )\n",
    "plt.show()"
   ]
  },
  {
   "cell_type": "markdown",
   "metadata": {},
   "source": [
    "### Komentarz\n",
    "Można zauważyć, że żadna z klas nie jest zupełnie losowo rozrzucona po przestrzeni wyznaczonej przez dwa wektory bazowe okreslone przez PCA - zajmują one pewne konkretne obszary. Natomiast nie da się powiedziec, że te obszary są łatwo separowalne."
   ]
  },
  {
   "cell_type": "code",
   "execution_count": null,
   "metadata": {},
   "outputs": [],
   "source": []
  }
 ],
 "metadata": {
  "kernelspec": {
   "display_name": "Python 3",
   "language": "python",
   "name": "python3"
  },
  "language_info": {
   "codemirror_mode": {
    "name": "ipython",
    "version": 3
   },
   "file_extension": ".py",
   "mimetype": "text/x-python",
   "name": "python",
   "nbconvert_exporter": "python",
   "pygments_lexer": "ipython3",
   "version": "3.6.6"
  }
 },
 "nbformat": 4,
 "nbformat_minor": 2
}
