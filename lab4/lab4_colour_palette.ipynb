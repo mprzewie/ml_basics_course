{
 "cells": [
  {
   "cell_type": "markdown",
   "metadata": {},
   "source": [
    "# Lab 4.1 - Wykrywanie palety kolorów\n",
    "\n",
    "**Wykonanie rozwiązań: Marcin Przewięźlikowski**\n",
    "\n",
    "https://github.com/mprzewie/ml_basics_course"
   ]
  },
  {
   "cell_type": "code",
   "execution_count": null,
   "metadata": {},
   "outputs": [],
   "source": [
    "import numpy as np\n",
    "import matplotlib.pyplot as plt\n",
    "import cv2\n",
    "import os\n",
    "from sklearn.decomposition import PCA\n",
    "from sklearn.cluster import KMeans\n",
    "from sklearn.metrics import silhouette_samples"
   ]
  },
  {
   "cell_type": "markdown",
   "metadata": {},
   "source": [
    "Wybierzmy ładne, kolorowe zdjęcie. Postarajmy się by miał kilka dominijących barw oraz jakieś anomalie (np. mały balonik na tle parku, albo samotny X-Wing na tle galaktyki)."
   ]
  },
  {
   "cell_type": "markdown",
   "metadata": {},
   "source": [
    "Warunek kilku dominujących barw jest tylko jednym z powodów, dla których warto sięgnąć po klasykę komiksu :)"
   ]
  },
  {
   "cell_type": "code",
   "execution_count": null,
   "metadata": {},
   "outputs": [],
   "source": [
    "image = cv2.imread(\"ds_1.jpg\")\n",
    "image = cv2.resize(image, (500, 800))\n",
    "image = image[:,:,[2,1,0]]\n",
    "image = image / 255\n",
    "plt.figure(figsize=(6, 9))\n",
    "plt.imshow(image)\n",
    "plt.title(\"Okładka jednego z najlepszych komiksów wszechczasów\")\n",
    "plt.axis(\"off\")\n",
    "plt.show()\n"
   ]
  },
  {
   "cell_type": "markdown",
   "metadata": {},
   "source": [
    "Potraktujmy każdy jego piksel jako obserwację w przestrzeni 3-D (po jednym wymiarze na każdy z kolorów). Zdecydujmy czy usuwamy ze zbioru duplikaty (piksele o takich samych wartościach RGB) - nasz wybór wpłynie na finalny wynik. "
   ]
  },
  {
   "cell_type": "code",
   "execution_count": null,
   "metadata": {},
   "outputs": [],
   "source": [
    "all_pixels = image.reshape(-1, 3)\n",
    "unique_pixels = np.unique(all_pixels, axis=0)"
   ]
  },
  {
   "cell_type": "markdown",
   "metadata": {},
   "source": [
    "Będe pracować na wszystkich pikselach."
   ]
  },
  {
   "cell_type": "markdown",
   "metadata": {},
   "source": [
    "Wykonajmy na takim zbiorze klasteryzację k-means, z następującymi założeniami:\n",
    "* jako środków klastrów używamy istniejące elementy zbioru, a nie ich średnie (czyli jest to w praktyce k-medoids) - nie chcemy znaleźć kolorów, które nie wystąpiły na zdjęciu;\n",
    "* dobieramy wartość stałej k używając dowolnej zaproponowanej przez siebie metody."
   ]
  },
  {
   "cell_type": "code",
   "execution_count": null,
   "metadata": {},
   "outputs": [],
   "source": [
    "kmeanses = []\n",
    "\n",
    "fig = plt.figure(figsize=(15, 25))\n",
    "\n",
    "for n_clusters in range(1, 11):\n",
    "    kmeans = KMeans(n_clusters).fit(all_pixels)\n",
    "    \n",
    "    # zamieniam znalezione centra klastrów na punkty najbardziej im podobne z datasetu,\n",
    "    # żeby otrzymać K-Medoids\n",
    "    new_cluster_centers = []\n",
    "    for c in kmeans.cluster_centers_:\n",
    "        differences = unique_pixels - c\n",
    "        differences_summed = (differences ** 2).sum(axis=1)\n",
    "        min_difference = differences[np.argmin(differences_summed)]\n",
    "        new_cluster_centers.append(c + min_difference)\n",
    "    \n",
    "    new_cluster_centers = np.array(new_cluster_centers)\n",
    "    kmeans.cluster_centers_ = new_cluster_centers\n",
    "    kmeanses.append(kmeans)\n",
    "    \n",
    "    cluster_indices = kmeans.predict(all_pixels)\n",
    "    all_pixels_clustered = kmeans.cluster_centers_[cluster_indices].reshape(image.shape)    \n",
    "    plt.subplot(5, 2, n_clusters)\n",
    "    plt.title(f\"n_clusters = {n_clusters}\")\n",
    "    plt.imshow(all_pixels_clustered)\n",
    "    plt.axis(\"off\")\n",
    "    \n",
    "plt.tight_layout()\n",
    "plt.show()"
   ]
  },
  {
   "cell_type": "code",
   "execution_count": null,
   "metadata": {},
   "outputs": [],
   "source": [
    "plt.title(\"Kwadratowa suma odległości punktów od swoich klastrów w zależności od liczby klastrów\")\n",
    "plt.plot(np.arange(len(kmeanses)), [k.inertia_ for k in kmeanses])\n",
    "plt.xlabel(\"Liczba klastrów\")\n",
    "plt.xlabel(\"Suma kwadratowej odległości\")\n",
    "plt.show()"
   ]
  },
  {
   "cell_type": "markdown",
   "metadata": {},
   "source": [
    "Z wykresu widać (z \"elbow method\"), że od $k=4$, zmiany w średnich odległościach punktów od ich klastrów nie są już tak duże, jak przy mniejszej liczbie klastrów.\n",
    "\n",
    "Dodatkowo wizualizując klasteryzacje, $k \\geq 5$ wydają się dawać ładne wizualne wyniki. Użyję więc dalej kmeans wytrenowanego dla $k=5$"
   ]
  },
  {
   "cell_type": "code",
   "execution_count": null,
   "metadata": {},
   "outputs": [],
   "source": [
    "kmeans = kmeanses[4]"
   ]
  },
  {
   "cell_type": "markdown",
   "metadata": {},
   "source": [
    "Prezentujemy uzyskaną paletę. "
   ]
  },
  {
   "cell_type": "code",
   "execution_count": null,
   "metadata": {},
   "outputs": [],
   "source": [
    "plt.title(\"Paleta kolorów znalezionych w k-means\")\n",
    "plt.imshow(np.array([kmeans.cluster_centers_]))\n",
    "plt.show()"
   ]
  },
  {
   "cell_type": "code",
   "execution_count": null,
   "metadata": {},
   "outputs": [],
   "source": [
    "sampled_pixels = unique_pixels[np.random.randint(0, len(unique_pixels), 10000)]\n",
    "sampled_pixels_clusters = kmeans.predict(sampled_pixels)\n",
    "clusters = kmeans.cluster_centers_\n",
    "sampled_pixels_clustered = clusters[sampled_pixels_clusters]"
   ]
  },
  {
   "cell_type": "code",
   "execution_count": null,
   "metadata": {},
   "outputs": [],
   "source": [
    "fig = plt.figure(figsize=(10, 10))\n",
    "fig.suptitle(\"Przykładowe piksele z obrazka (po lewej) i kolory, do których zostały zmapowane przez k-means (po prawej)\")\n",
    "for i, c in enumerate(clusters):\n",
    "    plt.subplot(1, len(clusters), i +1)\n",
    "    pixels_of_cluster = sampled_pixels[sampled_pixels_clusters == i][:10]\n",
    "    pixels_clustered = sampled_pixels_clustered[sampled_pixels_clusters == i][:10]\n",
    "    original_and_clustered = np.hstack([\n",
    "        pixels_of_cluster, pixels_clustered\n",
    "    ]).reshape(-1, 2, 3)\n",
    "\n",
    "    plt.axis(\"off\")\n",
    "    plt.imshow(original_and_clustered)\n",
    "\n",
    "plt.show()"
   ]
  },
  {
   "cell_type": "markdown",
   "metadata": {},
   "source": [
    "Wizualizujemy samą klasteryzację (np. rzutujemy punkty ze zbioru na 2D używając PCA, każdemu z nich środek malujemy na pierwotny kolor, a obwódkę na kolor klastra do którego był przyporządkowany)."
   ]
  },
  {
   "cell_type": "code",
   "execution_count": null,
   "metadata": {},
   "outputs": [],
   "source": [
    "pca = PCA().fit(all_pixels)\n",
    "sampled_pixels_pcad = pca.transform(sampled_pixels)\n",
    "clusters_pcad = pca.transform(clusters)"
   ]
  },
  {
   "cell_type": "code",
   "execution_count": null,
   "metadata": {},
   "outputs": [],
   "source": [
    "fig = plt.figure(figsize=(10,10))\n",
    "fig.suptitle(\"Wizualizacja klasteryzacji bez centrów klastrów\")\n",
    "for i, (c, c_p) in enumerate(zip(clusters, clusters_pcad)):\n",
    "    n_points = 20\n",
    "    pixels_of_cluster = sampled_pixels[sampled_pixels_clusters == i][:n_points]\n",
    "    pixels_pcad = sampled_pixels_pcad[sampled_pixels_clusters == i][:n_points]\n",
    "    \n",
    "    plt.scatter(pixels_pcad[:,0], pixels_pcad[:,1], c=[c for _ in pixels_pcad], s=400)\n",
    "    plt.scatter(pixels_pcad[:,0], pixels_pcad[:,1], c=pixels_of_cluster, s=150)\n",
    "plt.show()"
   ]
  },
  {
   "cell_type": "markdown",
   "metadata": {},
   "source": [
    "Następnie na tej samej wizualizacji 2D pokazujemy centra znalezionych klastrów oraz wartość miary Silhouette dla każdego z punktów (jest zawsze z zakresu -1 do 1, można to zwizualizować skalą szarości). Jaki kolor miały oryginalnie punkty o najwyższym Silhouette, a jakie te o najniższym? Czy miara ta nadaje się do wykrywania punktów - anomalii?"
   ]
  },
  {
   "cell_type": "markdown",
   "metadata": {},
   "source": [
    "Ponieważ $silhouette$ liczy się bardzo długo na pełnym zbiorze punktów, liczę je tylko na stworzonej wczesniej próbce."
   ]
  },
  {
   "cell_type": "code",
   "execution_count": null,
   "metadata": {},
   "outputs": [],
   "source": [
    "sampled_pixels_scores = silhouette_samples(sampled_pixels, sampled_pixels_clusters)"
   ]
  },
  {
   "cell_type": "code",
   "execution_count": null,
   "metadata": {},
   "outputs": [],
   "source": [
    "fig = plt.figure(figsize=(15,15))\n",
    "fig.suptitle(\"Wizualizacja klasteryzacji z centrami klastrów i wartością $silhouette$\")\n",
    "for i, (c, c_p) in enumerate(zip(clusters, clusters_pcad)):\n",
    "    n_points = 20\n",
    "    \n",
    "    pixels_of_cluster = sampled_pixels[sampled_pixels_clusters == i][:n_points]\n",
    "    pixels_pcad = sampled_pixels_pcad[sampled_pixels_clusters == i][:n_points]\n",
    "    pixels_scores = sampled_pixels_scores[sampled_pixels_clusters == i][:n_points]\n",
    "    \n",
    "    plt.scatter(pixels_pcad[:,0], pixels_pcad[:,1], c=[c for _ in pixels_pcad], s=1100)\n",
    "    plt.scatter(pixels_pcad[:,0], pixels_pcad[:,1], c=\"white\", s=800)\n",
    "    for (p_c, p_p, p_s) in zip(pixels_of_cluster, pixels_pcad, pixels_scores):       \n",
    "        plt.scatter([p_p[0]], [p_p[1]], c=[p_c], s=600, marker=f\"${'%.2f' % p_s}$\")\n",
    "    \n",
    "    \n",
    "    plt.scatter([c_p[0]], [c_p[1]], c=\"white\", marker=\"D\", s=800 )\n",
    "    plt.scatter([c_p[0]], [c_p[1]], c=[c], marker=\"D\", s=500 )\n",
    "plt.show()"
   ]
  },
  {
   "cell_type": "markdown",
   "metadata": {},
   "source": [
    "Można zaobserwować, że punkty bardziej oddalone od swoich klastrów i różniące się od nich kolorami mają widocznie niższe wartości $silhouette$. Pozwala to wysunąć hipotezę, że im niższa wartość $silhouette$ danego punktu, tym większa szansa że jest on punktem anomalicznym."
   ]
  }
 ],
 "metadata": {
  "kernelspec": {
   "display_name": "Python 3",
   "language": "python",
   "name": "python3"
  },
  "language_info": {
   "codemirror_mode": {
    "name": "ipython",
    "version": 3
   },
   "file_extension": ".py",
   "mimetype": "text/x-python",
   "name": "python",
   "nbconvert_exporter": "python",
   "pygments_lexer": "ipython3",
   "version": "3.6.6"
  }
 },
 "nbformat": 4,
 "nbformat_minor": 2
}
