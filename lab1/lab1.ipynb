{
 "cells": [
  {
   "cell_type": "markdown",
   "metadata": {},
   "source": [
    "# Klątwa wymiaru\n",
    "Due: October 25, 2018, 11:45 pm\n",
    "\n",
    "Celem zadania jest zbadanie, jak w zależności od liczby wymiarów zmieniają się poniższe wartości. Na potrzeby zadania stosujemy odległość Euklidesa.\n",
    "\n",
    "**Wykonanie: Marcin Przewięźlikowski**"
   ]
  },
  {
   "cell_type": "code",
   "execution_count": null,
   "metadata": {},
   "outputs": [],
   "source": [
    "import numpy as np\n",
    "import matplotlib.pyplot as plt\n",
    "import matplotlib\n",
    "matplotlib.rcParams['figure.figsize'] = [10,5]\n",
    "import pandas as pd\n",
    "from typing import Tuple"
   ]
  },
  {
   "cell_type": "markdown",
   "metadata": {},
   "source": [
    "## Objętość hiperkuli vs objętość hipersześcianu\n",
    "**Mamy hiperkulę o promieniu równym X wpisaną w hipersześcian o krawędziach długości 2X. Hiperkulę w przestrzeniach wielowymiarowych definiujemy jako zbiór punktów o odległości od jej środka nie większej niż jej promień. Zapełniamy hipersześcian losowymi punktami o równomiernym rozkładzie. Jaki % z tych punktów znajdzie się wewnątrz kuli, a jaki na zewnątrz - w \"narożnikach\"?**\n"
   ]
  },
  {
   "cell_type": "code",
   "execution_count": null,
   "metadata": {},
   "outputs": [],
   "source": [
    "def difference(x1: np.ndarray, x2: np.ndarray) -> np.ndarray:\n",
    "    return np.sqrt(\n",
    "        ((x1 - x2) **2).sum(axis=1)\n",
    "    )"
   ]
  },
  {
   "cell_type": "code",
   "execution_count": null,
   "metadata": {},
   "outputs": [],
   "source": [
    "def hyper_percentage(degree: int, X:float = 1.0, n_samples: int = 10000) -> float:\n",
    "    sphere_center = np.ones((1, degree)) * X\n",
    "    points = np.random.rand(n_samples, degree) * 2*X\n",
    "    differences = difference(sphere_center, points)\n",
    "    points_in_ball = (differences < X)\n",
    "    return points_in_ball.sum() / points_in_ball.shape[0] "
   ]
  },
  {
   "cell_type": "code",
   "execution_count": null,
   "metadata": {},
   "outputs": [],
   "source": [
    "degrees = np.arange(1, 30)\n",
    "percentages = [hyper_percentage(degree=d, X=20.0) for d in degrees]\n",
    "\n",
    "df = pd.DataFrame({\n",
    "    \"degree\": degrees,\n",
    "    \"percentage\": percentages\n",
    "})\n",
    "df"
   ]
  },
  {
   "cell_type": "code",
   "execution_count": null,
   "metadata": {},
   "outputs": [],
   "source": [
    "plt.scatter(df[\"degree\"], df[\"percentage\"])"
   ]
  },
  {
   "cell_type": "markdown",
   "metadata": {},
   "source": [
    "#### Komentarz\n",
    "\n",
    "Jak widac z wykresu, liczba punktów trafiającyh do hiperkuli maleje ze wzrostem przyjętego wymiaru. Używamy tu metody Monte Carlo, więc zwiększenie liczby próbek na pomiar pomaga uzyskać dokładniejsze wyniki, jednak trend jest wyraźnie obserwowalny.\n",
    "\n",
    "Wniosek z tego jest taki, że im większy wymiar danych o rozkładzie jednostajnym, tym mniejsza szansa, że dla danego punktu w tych danych, znajdziemy inny punkt, który będzie mu relatywnie (euklidesowo) bliski."
   ]
  },
  {
   "cell_type": "markdown",
   "metadata": {},
   "source": [
    "## Odległości między punktami w hipersześcianie\n",
    "**Mamy hipersześcian o krawędziach długości 1. Zapełniamy go losowymi punktami o równomiernym rozkładzie. Jaki jest stosunek odchylenia standardowego odległości między tymi punktami do średniej odległości między nimi?**"
   ]
  },
  {
   "cell_type": "code",
   "execution_count": null,
   "metadata": {},
   "outputs": [],
   "source": [
    "def difference_matrix_naive(points: np.ndarray) -> np.ndarray:\n",
    "    return np.array([difference(p, points) for p in points])"
   ]
  },
  {
   "cell_type": "code",
   "execution_count": null,
   "metadata": {},
   "outputs": [],
   "source": [
    "# implementacja zwektoryzowana\n",
    "def difference_matrix(points: np.ndarray) -> np.ndarray:\n",
    "    return  (\n",
    "        ((points ** 2).sum(axis=1) - 2 * (points @ points.T)).T + \n",
    "        (points ** 2).sum(axis=1)\n",
    "    )"
   ]
  },
  {
   "cell_type": "code",
   "execution_count": null,
   "metadata": {},
   "outputs": [],
   "source": [
    "def std_to_avg_difference(degree: int, X: float=1.0, n_samples: int = 1000) -> float:\n",
    "    points = (np.random.rand(n_samples, degree) * X)\n",
    "    dif_mat = difference_matrix(points)\n",
    "    return [dif_mat.std(), dif_mat.mean()]"
   ]
  },
  {
   "cell_type": "code",
   "execution_count": null,
   "metadata": {},
   "outputs": [],
   "source": [
    "degrees = np.arange(1, 250)\n",
    "std_avgs = np.array([std_to_avg_difference(degree=d, X=20.0) for d in degrees])\n",
    "\n",
    "df = pd.DataFrame({\n",
    "    \"degree\": degrees,\n",
    "    \"std\": std_avgs[:, 0],\n",
    "    \"avg\": std_avgs[:, 1],\n",
    "})\n",
    "df[\"std_to_avg\"] = df[\"std\"] / df[\"avg\"]\n",
    "df"
   ]
  },
  {
   "cell_type": "code",
   "execution_count": null,
   "metadata": {},
   "outputs": [],
   "source": [
    "plt.plot(df[\"degree\"], df[\"std\"], color=\"blue\")\n",
    "plt.plot(df[\"degree\"], df[\"avg\"], color=\"red\")\n",
    "plt.show()"
   ]
  },
  {
   "cell_type": "code",
   "execution_count": null,
   "metadata": {},
   "outputs": [],
   "source": [
    "plt.scatter(df[\"degree\"], df[\"std_to_avg\"])"
   ]
  },
  {
   "cell_type": "markdown",
   "metadata": {},
   "source": [
    "#### Komentarz\n",
    "\n",
    "Stosunek odchylenia standardowego odległości miedzy punktami do średniej odległosci maleje wraz z wymiarem przestrzeni, w której te punkty się znajdują. Im większy wymiar, tym mniej rozkład jednostajny rozrzutu punktów jest podatny na różne fluktuacje, które mogłyby powodować, że niektóre punkty wylądują bliżej siebie. \n",
    "\n",
    "W niskich wymiarach widzimy, że odchylenie standardowe odległości między punktami jest rzędu tych odległości, co swiadczy o dużym chaosie rozrzutu. W większych wymiarach odchylenie standardowe maleje w porównaniu do odległości, co oznacza że odległości między punktami są już (relatywnie) bliskie pewnej wartości dla danego wymiaru.\n",
    "\n",
    "Mowa tu oczywiście o bliskosci relatywnej, gdyż warto zauwazyć, że spadająca wartość stosunku tych dwóch wielkości bierze się z tego, że (jak widać na wykresie wyżej), średnai odległość między punktami rośnie wraz z wymiarem znacznie szybciej, niż średnie odchylenie standardowe - ale obie te wielkości faktycznie się zwiększają."
   ]
  },
  {
   "cell_type": "markdown",
   "metadata": {},
   "source": [
    "## Kąty między wektorami w hiperprzestrzeni\n",
    "**Ponownie mamy losowo zapełniony punktami hipersześcian o krawędziach długości 1. Z tych punktowych losujemy (bez zwracania) dwie pary. Punkty z pary wyznaczają pewien wektor (są jego początkiem i końcem). Jaki jest kąt między dwoma wylosowanymi punktami? Losowanie powtórz wielokrotnie. Jak wygląda rozkład otrzymanych kątów?**"
   ]
  },
  {
   "cell_type": "code",
   "execution_count": null,
   "metadata": {},
   "outputs": [],
   "source": [
    "Vector = Tuple[np.ndarray, np.ndarray]\n",
    "\n",
    "def length(v: Vector) -> float:\n",
    "    v_abs = v[1] - v[0]\n",
    "    return np.sqrt((v_abs ** 2).sum())\n",
    "\n",
    "def angle(\n",
    "    v1: Vector,\n",
    "    v2: Vector,\n",
    ") -> float:\n",
    "    v1_abs = v1[1] - v1[0]\n",
    "    v2_abs = v2[1] - v2[0]\n",
    "    cos = (v1_abs * v2_abs).sum() / (length(v1) * length(v2))\n",
    "    return np.arccos(cos)"
   ]
  },
  {
   "cell_type": "code",
   "execution_count": null,
   "metadata": {},
   "outputs": [],
   "source": [
    "def hyper_angles(degree: int, X: float=1.0, n_samples: int = 5000) -> np.ndarray:\n",
    "    n_points = 4 * n_samples\n",
    "    p = np.random.rand(n_points, degree)\n",
    "    return np.array([\n",
    "        angle(\n",
    "            (p[4 * i], p[4 * i + 1]),\n",
    "            (p[4 * i + 2], p[4 * i + 3])\n",
    "        )\n",
    "        for i in range(n_samples)\n",
    "    ])"
   ]
  },
  {
   "cell_type": "code",
   "execution_count": null,
   "metadata": {},
   "outputs": [],
   "source": [
    "for i in range(10):\n",
    "    degree = 2 ** i\n",
    "    plt.hist(hyper_angles(degree), bins=100, stacked=True, density=True, range=(0, np.pi))\n",
    "    print(f\"degree: {degree}\")\n",
    "    plt.show()"
   ]
  },
  {
   "cell_type": "markdown",
   "metadata": {},
   "source": [
    "#### Komentarz\n",
    "\n",
    "Wraz ze wzrostem wymiaru danych, rozkład kątów, jaki tworzą dwa losowo wybrane wektory zawęża się i zaczyna koncentrować na $\\dfrac{\\pi}{2}$. Oznacza to niezależność takich wektorów, a więc i próżne próby doszukiwania się między nimi podobieństwa w sensie kątowym."
   ]
  }
 ],
 "metadata": {
  "kernelspec": {
   "display_name": "Python 3",
   "language": "python",
   "name": "python3"
  },
  "language_info": {
   "codemirror_mode": {
    "name": "ipython",
    "version": 3
   },
   "file_extension": ".py",
   "mimetype": "text/x-python",
   "name": "python",
   "nbconvert_exporter": "python",
   "pygments_lexer": "ipython3",
   "version": "3.6.6"
  }
 },
 "nbformat": 4,
 "nbformat_minor": 2
}
